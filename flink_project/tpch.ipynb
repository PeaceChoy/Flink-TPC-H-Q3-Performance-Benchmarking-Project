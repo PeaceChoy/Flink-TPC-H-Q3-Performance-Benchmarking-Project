{
 "cells": [
  {
   "cell_type": "code",
   "execution_count": null,
   "id": "a59a746c",
   "metadata": {},
   "outputs": [],
   "source": [
    "# !pip install duckdb\n",
    "import duckdb\n",
    "import os\n",
    "\n",
    "# 1. 连接到内存数据库\n",
    "conn = duckdb.connect(':memory:')\n",
    "\n",
    "# 2. 安装并加载 tpch 扩展\n",
    "print(\"Installing and loading TPC-H extension...\")\n",
    "conn.execute(\"INSTALL tpch;\")\n",
    "conn.execute(\"LOAD tpch;\")\n",
    "\n",
    "# 3. 定义规模因子\n",
    "scale_factor = 0.1 # 选了scale_factor = 0.1，1，10，20来生成四个tpch_data文件夹做测试\n",
    "print(f\"Generating TPC-H data with scale factor {scale_factor}...\")\n",
    "\n",
    "# 4. 生成数据\n",
    "conn.execute(f\"CALL dbgen(sf={scale_factor});\")\n",
    "print(\"Data generation complete.\")\n",
    "\n",
    "# 5. 获取表名列表\n",
    "tables_result = conn.execute(\"SHOW TABLES;\").fetchall()\n",
    "table_names = [row[0] for row in tables_result]\n",
    "print(f\"Generated tables: {table_names}\")\n",
    "\n",
    "# 6. 定义导出目录\n",
    "script_dir = os.getcwd() # 获取当前工作目录\n",
    "# 直接指定一个绝对路径：\n",
    "# script_dir = \"D:/hkust/summer term/independent projects_flink/flink_project/flink_test\"\n",
    "\n",
    "project_root = script_dir\n",
    "output_dir = os.path.join(project_root, \"tpch_data4\")\n",
    "\n",
    "os.makedirs(output_dir, exist_ok=True)\n",
    "print(f\"Exporting data to directory: {output_dir}\")\n",
    "\n",
    "# 7. 导出每个表为 Parquet 文件\n",
    "for table_name in table_names:\n",
    "    parquet_file_path = os.path.join(output_dir, f\"{table_name}.parquet\")\n",
    "    print(f\"Exporting {table_name} to {parquet_file_path}...\")\n",
    "    conn.execute(f\"COPY {table_name} TO '{parquet_file_path}' (FORMAT PARQUET);\")\n",
    "    print(f\"Exported {table_name}.\")\n",
    "\n",
    "# 8. 关闭连接\n",
    "conn.close()\n",
    "print(\"All done! Parquet files are in the './tpch_data' directory.\")"
   ]
  }
 ],
 "metadata": {
  "kernelspec": {
   "display_name": "pyspark",
   "language": "python",
   "name": "python3"
  },
  "language_info": {
   "codemirror_mode": {
    "name": "ipython",
    "version": 3
   },
   "file_extension": ".py",
   "mimetype": "text/x-python",
   "name": "python",
   "nbconvert_exporter": "python",
   "pygments_lexer": "ipython3",
   "version": "3.12.9"
  }
 },
 "nbformat": 4,
 "nbformat_minor": 5
}
